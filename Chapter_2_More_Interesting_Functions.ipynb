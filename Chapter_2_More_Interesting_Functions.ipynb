{
 "cells": [
  {
   "cell_type": "code",
   "execution_count": 15,
   "id": "91f3c98f-386d-4da9-9b74-d8c52830622b",
   "metadata": {},
   "outputs": [],
   "source": [
    "# HIDDEN_CELL\n",
    "# You can ignore this code block, it's just here to make it easier to show colours!\n",
    "\n",
    "from IPython.display import display, HTML\n",
    "\n",
    "def show_colour(colour):\n",
    "    red = colour[0]\n",
    "    green = colour[1]\n",
    "    blue = colour[2]\n",
    "    html_str = f'<div style=\"width:100px; height:100px; background-color: rgb({red}, {green}, {blue});\"></div>'\n",
    "    display(HTML(html_str))"
   ]
  },
  {
   "cell_type": "markdown",
   "id": "412fad68-1eb9-41d9-8aca-9a638a2c66c6",
   "metadata": {},
   "source": [
    "# The Mysterious Mandelbrot"
   ]
  },
  {
   "cell_type": "markdown",
   "id": "a25a6b1d-50f5-47d7-87ed-82e1747ae81f",
   "metadata": {},
   "source": [
    "## Chapter 2: More Interesting Functions"
   ]
  },
  {
   "cell_type": "markdown",
   "id": "0e3fcdbf-2bcb-4ed2-9265-271be59a7780",
   "metadata": {},
   "source": [
    "### Interpolators"
   ]
  },
  {
   "cell_type": "markdown",
   "id": "6e79ee71-7eb9-4b4d-880a-649a762d800d",
   "metadata": {},
   "source": [
    "A _interpolator_ is a function which helps us find values that are in between known values."
   ]
  },
  {
   "cell_type": "markdown",
   "id": "72e5c32e-d752-420b-982b-d95687ca07ef",
   "metadata": {},
   "source": [
    "Let's say we have some start value `min`, and some end value `max`. We can write a function that takes in these `min` and `max` values, and an additional value `x` which tells the function how close to be to `min` or how close to be to `max`:"
   ]
  },
  {
   "cell_type": "code",
   "execution_count": 2,
   "id": "e2234d3a-71c9-49de-9dff-ac6d4018bebb",
   "metadata": {},
   "outputs": [],
   "source": [
    "def interpolate_numbers(start, final, x):\n",
    "    return start + ((final - start) * x)"
   ]
  },
  {
   "cell_type": "markdown",
   "id": "241993c2-9bc1-46f3-8473-2c1ddb23eec4",
   "metadata": {},
   "source": [
    "Let's say we start at $10$, and finish at $20$:"
   ]
  },
  {
   "cell_type": "code",
   "execution_count": 3,
   "id": "b3ebf49d-29b1-4d76-8f6e-45444f29d9d8",
   "metadata": {},
   "outputs": [],
   "source": [
    "start = 10\n",
    "finish = 20"
   ]
  },
  {
   "cell_type": "markdown",
   "id": "7aee07ea-e6e9-4804-8a6d-be091893d9d8",
   "metadata": {},
   "source": [
    "Now, if we call our `interpolate_numbers` function and give it a value of `x = 0.0` it'll give us the _lower bound_:"
   ]
  },
  {
   "cell_type": "code",
   "execution_count": 4,
   "id": "3a7928be-7dc7-4a95-b984-dc34d75e967a",
   "metadata": {},
   "outputs": [
    {
     "data": {
      "text/plain": [
       "10.0"
      ]
     },
     "execution_count": 4,
     "metadata": {},
     "output_type": "execute_result"
    }
   ],
   "source": [
    "interpolate_numbers(start, finish, 0.0)"
   ]
  },
  {
   "cell_type": "markdown",
   "id": "b4910208-ab14-446c-a975-123e60210e73",
   "metadata": {},
   "source": [
    "And, if we give it `x = 1.0` then we'll get the final value:"
   ]
  },
  {
   "cell_type": "code",
   "execution_count": 5,
   "id": "dbf60181-b740-4d37-b0b3-502f875316d0",
   "metadata": {},
   "outputs": [
    {
     "data": {
      "text/plain": [
       "20.0"
      ]
     },
     "execution_count": 5,
     "metadata": {},
     "output_type": "execute_result"
    }
   ],
   "source": [
    "interpolate_numbers(start, finish, 1.0)"
   ]
  },
  {
   "cell_type": "markdown",
   "id": "d0caa1a0-b929-4a56-b0bd-24fc3e5a700c",
   "metadata": {},
   "source": [
    "And if we give it some value of `x` between `0.0` and `1.0` then we'll get a value in between:"
   ]
  },
  {
   "cell_type": "code",
   "execution_count": 6,
   "id": "da4980d6-4ff3-4d7b-ba66-7193d7ca9f85",
   "metadata": {},
   "outputs": [
    {
     "data": {
      "text/plain": [
       "15.0"
      ]
     },
     "execution_count": 6,
     "metadata": {},
     "output_type": "execute_result"
    }
   ],
   "source": [
    "interpolate_numbers(start, finish, 0.5)"
   ]
  },
  {
   "cell_type": "markdown",
   "id": "bd4da03a-376a-4537-8b61-ad5d9ddc5904",
   "metadata": {},
   "source": [
    "### It's not all about numbers (but it is really!)"
   ]
  },
  {
   "cell_type": "markdown",
   "id": "a84540e2-c0c5-40ad-af94-3e2b6456c911",
   "metadata": {},
   "source": [
    "Computers represent colours as a mixture of <span style=\"color: red;\">red</span> <span style=\"color: green;\">green</span>\n",
    "and <span style=\"color: blue;\">blue</span>."
   ]
  },
  {
   "cell_type": "markdown",
   "id": "8f36956a-aed8-49dc-be52-27021bd5415d",
   "metadata": {},
   "source": [
    "Therefore, we'll define `our_colour` as a composite of the <span style=\"color: red;\">R</span><span style=\"color: green;\">G</span><span style=\"color: blue;\">B</span> components:"
   ]
  },
  {
   "cell_type": "code",
   "execution_count": 17,
   "id": "6e9208db-5fe3-4d22-9913-9053e2b75075",
   "metadata": {},
   "outputs": [
    {
     "data": {
      "text/html": [
       "<div style=\"width:100px; height:100px; background-color: rgb(255, 0, 0);\"></div>"
      ],
      "text/plain": [
       "<IPython.core.display.HTML object>"
      ]
     },
     "metadata": {},
     "output_type": "display_data"
    }
   ],
   "source": [
    "red = 255\n",
    "green = 0\n",
    "blue = 0\n",
    "\n",
    "our_colour = [red, green, blue]\n",
    "\n",
    "show_colour(our_colour)"
   ]
  },
  {
   "cell_type": "markdown",
   "id": "214519ac-9381-4f40-878c-928c4197bc7f",
   "metadata": {},
   "source": [
    "Note: Colour components are usually in the range $0-255$!"
   ]
  },
  {
   "cell_type": "markdown",
   "id": "fccfcafd-44d7-433d-bdd4-604ac55a282c",
   "metadata": {},
   "source": [
    "Let's make it more interesting. Let's say we want to find a colour that's a mixture of two other colours."
   ]
  },
  {
   "cell_type": "markdown",
   "id": "2eaf53ed-bfe1-4263-82df-d65d5906527e",
   "metadata": {},
   "source": [
    "We can write another interpolator function, but this time the `start` and `final` values will be colours instead of numbers. We'll work out the intermediate colour similar to above, but we'll calculate each component individually:"
   ]
  },
  {
   "cell_type": "code",
   "execution_count": 24,
   "id": "a0c8fefc-37f7-451e-8146-9b34b96c6fb6",
   "metadata": {},
   "outputs": [],
   "source": [
    "def interpolate_colours(start, final, x):\n",
    "    # Break the colours back into their RGB components\n",
    "    [start_red, start_green, start_blue] = start\n",
    "    [final_red, final_green, final_blue] = final\n",
    "\n",
    "    # Interpolate each component individually\n",
    "    red = interpolate_numbers(start_red, final_red, x)\n",
    "    green = interpolate_numbers(start_green, final_green, x)\n",
    "    blue = interpolate_numbers(start_blue, final_blue, x)\n",
    "\n",
    "    # Then package the components back up into the resulting colour:\n",
    "    return [red, green, blue]"
   ]
  },
  {
   "cell_type": "markdown",
   "id": "078498d4-e4e5-41ce-993f-4a73e5fe71c0",
   "metadata": {},
   "source": [
    "Now we can mix colours!"
   ]
  },
  {
   "cell_type": "code",
   "execution_count": 25,
   "id": "3fdc3602-c4d1-4b05-a476-cda30964b9b8",
   "metadata": {},
   "outputs": [
    {
     "data": {
      "text/html": [
       "<div style=\"width:100px; height:100px; background-color: rgb(127.5, 0.0, 127.5);\"></div>"
      ],
      "text/plain": [
       "<IPython.core.display.HTML object>"
      ]
     },
     "metadata": {},
     "output_type": "display_data"
    }
   ],
   "source": [
    "start = [255, 0, 0]\n",
    "final = [0, 0, 255]\n",
    "\n",
    "mixed_colour = interpolate_colours(start, final, 0.5)\n",
    "\n",
    "show_colour(mixed_colour)"
   ]
  },
  {
   "cell_type": "markdown",
   "id": "523e1ad2-ab27-4377-8718-57e6b055476d",
   "metadata": {},
   "source": [
    "Cool! Now we can generate a gradient of colours by starting $x$ at $0.0$, and ending it at $1.0$:"
   ]
  },
  {
   "cell_type": "code",
   "execution_count": 30,
   "id": "7fcc7d2b-3b8d-4f15-97d2-f29514f1abbc",
   "metadata": {},
   "outputs": [
    {
     "name": "stdout",
     "output_type": "stream",
     "text": [
      "0.0\n"
     ]
    },
    {
     "data": {
      "text/html": [
       "<div style=\"width:100px; height:100px; background-color: rgb(255.0, 0.0, 0.0);\"></div>"
      ],
      "text/plain": [
       "<IPython.core.display.HTML object>"
      ]
     },
     "metadata": {},
     "output_type": "display_data"
    },
    {
     "name": "stdout",
     "output_type": "stream",
     "text": [
      "0.1\n"
     ]
    },
    {
     "data": {
      "text/html": [
       "<div style=\"width:100px; height:100px; background-color: rgb(229.5, 0.0, 25.5);\"></div>"
      ],
      "text/plain": [
       "<IPython.core.display.HTML object>"
      ]
     },
     "metadata": {},
     "output_type": "display_data"
    },
    {
     "name": "stdout",
     "output_type": "stream",
     "text": [
      "0.2\n"
     ]
    },
    {
     "data": {
      "text/html": [
       "<div style=\"width:100px; height:100px; background-color: rgb(204.0, 0.0, 51.0);\"></div>"
      ],
      "text/plain": [
       "<IPython.core.display.HTML object>"
      ]
     },
     "metadata": {},
     "output_type": "display_data"
    },
    {
     "name": "stdout",
     "output_type": "stream",
     "text": [
      "0.30000000000000004\n"
     ]
    },
    {
     "data": {
      "text/html": [
       "<div style=\"width:100px; height:100px; background-color: rgb(178.5, 0.0, 76.50000000000001);\"></div>"
      ],
      "text/plain": [
       "<IPython.core.display.HTML object>"
      ]
     },
     "metadata": {},
     "output_type": "display_data"
    },
    {
     "name": "stdout",
     "output_type": "stream",
     "text": [
      "0.4\n"
     ]
    },
    {
     "data": {
      "text/html": [
       "<div style=\"width:100px; height:100px; background-color: rgb(153.0, 0.0, 102.0);\"></div>"
      ],
      "text/plain": [
       "<IPython.core.display.HTML object>"
      ]
     },
     "metadata": {},
     "output_type": "display_data"
    },
    {
     "name": "stdout",
     "output_type": "stream",
     "text": [
      "0.5\n"
     ]
    },
    {
     "data": {
      "text/html": [
       "<div style=\"width:100px; height:100px; background-color: rgb(127.5, 0.0, 127.5);\"></div>"
      ],
      "text/plain": [
       "<IPython.core.display.HTML object>"
      ]
     },
     "metadata": {},
     "output_type": "display_data"
    },
    {
     "name": "stdout",
     "output_type": "stream",
     "text": [
      "0.6000000000000001\n"
     ]
    },
    {
     "data": {
      "text/html": [
       "<div style=\"width:100px; height:100px; background-color: rgb(101.99999999999997, 0.0, 153.00000000000003);\"></div>"
      ],
      "text/plain": [
       "<IPython.core.display.HTML object>"
      ]
     },
     "metadata": {},
     "output_type": "display_data"
    },
    {
     "name": "stdout",
     "output_type": "stream",
     "text": [
      "0.7000000000000001\n"
     ]
    },
    {
     "data": {
      "text/html": [
       "<div style=\"width:100px; height:100px; background-color: rgb(76.49999999999997, 0.0, 178.50000000000003);\"></div>"
      ],
      "text/plain": [
       "<IPython.core.display.HTML object>"
      ]
     },
     "metadata": {},
     "output_type": "display_data"
    },
    {
     "name": "stdout",
     "output_type": "stream",
     "text": [
      "0.8\n"
     ]
    },
    {
     "data": {
      "text/html": [
       "<div style=\"width:100px; height:100px; background-color: rgb(51.0, 0.0, 204.0);\"></div>"
      ],
      "text/plain": [
       "<IPython.core.display.HTML object>"
      ]
     },
     "metadata": {},
     "output_type": "display_data"
    },
    {
     "name": "stdout",
     "output_type": "stream",
     "text": [
      "0.9\n"
     ]
    },
    {
     "data": {
      "text/html": [
       "<div style=\"width:100px; height:100px; background-color: rgb(25.5, 0.0, 229.5);\"></div>"
      ],
      "text/plain": [
       "<IPython.core.display.HTML object>"
      ]
     },
     "metadata": {},
     "output_type": "display_data"
    }
   ],
   "source": [
    "for i in range(0, 10):\n",
    "    x = 0.1 * i\n",
    "    print(x)\n",
    "    \n",
    "    mixed_colour = interpolate_colours(start, final, x)\n",
    "    show_colour(mixed_colour)"
   ]
  }
 ],
 "metadata": {
  "kernelspec": {
   "display_name": "Python 3 (ipykernel)",
   "language": "python",
   "name": "python3"
  },
  "language_info": {
   "codemirror_mode": {
    "name": "ipython",
    "version": 3
   },
   "file_extension": ".py",
   "mimetype": "text/x-python",
   "name": "python",
   "nbconvert_exporter": "python",
   "pygments_lexer": "ipython3",
   "version": "3.10.14"
  }
 },
 "nbformat": 4,
 "nbformat_minor": 5
}
