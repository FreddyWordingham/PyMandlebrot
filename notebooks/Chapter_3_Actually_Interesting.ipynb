{
 "cells": [
  {
   "cell_type": "code",
   "execution_count": 1,
   "id": "9bb3c3dc-424d-4641-afb7-438a026adf96",
   "metadata": {},
   "outputs": [],
   "source": [
    "# HIDDEN_CELL\n",
    "# You can ignore this code block, it's just here to get some functions from the previous notebook!\n",
    "\n",
    "def interpolate_numbers(start, final, x):\n",
    "    return start + ((final - start) * x)\n",
    "\n",
    "def interpolate_colours(start, final, x):\n",
    "    # Break the colours back into their RGB components\n",
    "    [start_red, start_green, start_blue] = start\n",
    "    [final_red, final_green, final_blue] = final\n",
    "\n",
    "    # Interpolate each component individually\n",
    "    red = interpolate_numbers(start_red, final_red, x)\n",
    "    green = interpolate_numbers(start_green, final_green, x)\n",
    "    blue = interpolate_numbers(start_blue, final_blue, x)\n",
    "\n",
    "    # Then package the components back up into the resulting colour:\n",
    "    return [red, green, blue]"
   ]
  },
  {
   "cell_type": "markdown",
   "id": "2ff5e7e2-5bdd-4df3-8ffb-9e0fd656f3f0",
   "metadata": {},
   "source": [
    "# The Mysterious Mandelbrot"
   ]
  },
  {
   "cell_type": "markdown",
   "id": "b79efdf0-153f-467b-865d-3394c681e788",
   "metadata": {},
   "source": [
    "## Chapter 3: Actually Interesting"
   ]
  },
  {
   "cell_type": "markdown",
   "id": "b23b00a8-63f8-4d40-a799-4b5fc0d93ebf",
   "metadata": {},
   "source": [
    "### Functional Analysis"
   ]
  },
  {
   "cell_type": "markdown",
   "id": "65379bee-c1c5-4a4f-abed-f811500f99a0",
   "metadata": {},
   "source": [
    "_Functional analysis_ just means the analysis of functions. Or investigating how functions behave, and their interesting features."
   ]
  },
  {
   "cell_type": "markdown",
   "id": "db4c17f5-2520-4755-a272-0144273a0188",
   "metadata": {},
   "source": [
    "Let's say we have some function that multiplies a number over and over and over and over.... again:"
   ]
  },
  {
   "cell_type": "code",
   "execution_count": 2,
   "id": "abffb788-a1c1-4524-b729-43c5e1ffd9db",
   "metadata": {},
   "outputs": [],
   "source": [
    "def multiply_over_and_over(x):\n",
    "    return x ** 20"
   ]
  },
  {
   "cell_type": "markdown",
   "id": "5ad7fa40-5b4a-4d0e-8fb7-2309dc0d377b",
   "metadata": {},
   "source": [
    "If we give this function a small number, it will shrink down to zero:"
   ]
  },
  {
   "cell_type": "code",
   "execution_count": 3,
   "id": "6d8ab141-b6f7-4803-8628-55b2fed5f728",
   "metadata": {},
   "outputs": [
    {
     "data": {
      "text/plain": [
       "0.011529215046068483"
      ]
     },
     "execution_count": 3,
     "metadata": {},
     "output_type": "execute_result"
    }
   ],
   "source": [
    "multiply_over_and_over(0.8)"
   ]
  },
  {
   "cell_type": "markdown",
   "id": "5e1aec81-0ff0-4e42-85c5-9c58fd5588ff",
   "metadata": {},
   "source": [
    "And if we give it a larger number it'll blow up to infinity!"
   ]
  },
  {
   "cell_type": "code",
   "execution_count": 4,
   "id": "f5be55f5-752b-4395-8183-1095bdc55a67",
   "metadata": {},
   "outputs": [
    {
     "data": {
      "text/plain": [
       "3486784401.0"
      ]
     },
     "execution_count": 4,
     "metadata": {},
     "output_type": "execute_result"
    }
   ],
   "source": [
    "multiply_over_and_over(3.0)"
   ]
  },
  {
   "cell_type": "markdown",
   "id": "aaa0366d-ce49-4159-a48d-c920f0539abf",
   "metadata": {},
   "source": [
    "Notice how a very small difference in the input gives a very large difference in the output!"
   ]
  },
  {
   "cell_type": "markdown",
   "id": "aff57fe4-8edd-4cd4-bf60-92c77589f737",
   "metadata": {},
   "source": [
    "What value of $x$ is between making very small numbers, and making very large numbers?"
   ]
  },
  {
   "cell_type": "markdown",
   "id": "a72256ea-d2eb-472a-99ad-7615c1452a8d",
   "metadata": {},
   "source": [
    "### The Mandelbrot!"
   ]
  },
  {
   "cell_type": "markdown",
   "id": "cb406471-3a11-4c46-86e0-bac018f1db5c",
   "metadata": {},
   "source": [
    "This is magical function which \"samples the Mandelbrot function\":"
   ]
  },
  {
   "cell_type": "code",
   "execution_count": 5,
   "id": "84c8dda5-a946-4d34-8769-fe0e4dc9c4f8",
   "metadata": {},
   "outputs": [],
   "source": [
    "def sample_mandelbrot(x, y, max_iterations):\n",
    "    c = complex(x, y)\n",
    "    z = 0 + 0j\n",
    "    for i in range(max_iterations):\n",
    "        if abs(z) > 2.0:\n",
    "            return i\n",
    "        z = z * z + c\n",
    "    return max_iterations"
   ]
  },
  {
   "cell_type": "markdown",
   "id": "7c7314b9-608c-4f02-976d-dd5a39c2bfeb",
   "metadata": {},
   "source": [
    "We can give it some coordinate $(x, y)$ and it returns back the number of iterations required to escape a circle:"
   ]
  },
  {
   "cell_type": "code",
   "execution_count": 6,
   "id": "2cdda499-c91f-4c02-b408-d574f4171e33",
   "metadata": {},
   "outputs": [
    {
     "data": {
      "text/plain": [
       "5"
      ]
     },
     "execution_count": 6,
     "metadata": {},
     "output_type": "execute_result"
    }
   ],
   "source": [
    "max_iterations = 1000\n",
    "\n",
    "sample_mandelbrot(0.5, 0.2, max_iterations)"
   ]
  },
  {
   "cell_type": "markdown",
   "id": "efddf6f1-fe71-41bc-b490-a7c01322b004",
   "metadata": {},
   "source": [
    "We don't really need to worry about what this means for now, we just need to know it's a **REALLY** interesting function!"
   ]
  },
  {
   "cell_type": "markdown",
   "id": "326331d2-053b-4be9-8a76-7d0c4039030a",
   "metadata": {},
   "source": [
    "It returns wildly different outputs for small changes in input."
   ]
  },
  {
   "cell_type": "markdown",
   "id": "d51b579e-c36b-4c07-8832-93999f26383d",
   "metadata": {},
   "source": [
    "Let's _sweep_ the value of $x$ between $-2.0$ and $2.0$, whilst keeping $y$ constant:"
   ]
  },
  {
   "cell_type": "code",
   "execution_count": 7,
   "id": "110d1658-0d44-49fb-b780-6211ddce4b83",
   "metadata": {},
   "outputs": [
    {
     "name": "stdout",
     "output_type": "stream",
     "text": [
      "3\n",
      "3\n",
      "3\n",
      "3\n",
      "4\n",
      "5\n",
      "7\n",
      "7\n",
      "7\n",
      "7\n",
      "7\n",
      "7\n",
      "11\n",
      "1000\n",
      "1000\n",
      "1000\n",
      "1000\n",
      "1000\n",
      "1000\n",
      "1000\n",
      "1000\n",
      "1000\n",
      "1000\n",
      "9\n",
      "5\n",
      "4\n",
      "3\n",
      "3\n"
     ]
    }
   ],
   "source": [
    "y = 0.4\n",
    "for i in range(-19, 9):\n",
    "    x = 0.1 * i\n",
    "\n",
    "    result = sample_mandelbrot(x, y, max_iterations)\n",
    "    print(result)"
   ]
  },
  {
   "cell_type": "markdown",
   "id": "0893ba8a-e032-4a8d-b56f-8f819309537e",
   "metadata": {},
   "source": [
    "We can get a better picture of what's going on by sweeping across $x$ **AND** $y$:"
   ]
  },
  {
   "cell_type": "code",
   "execution_count": 8,
   "id": "983eb3bb-978c-4d3c-b405-c1d5078d95d1",
   "metadata": {},
   "outputs": [
    {
     "name": "stdout",
     "output_type": "stream",
     "text": [
      "    1    1    1    1    1    1    2    2    2    2    2    2    2    2    2    2    2    2    2    2    2    2    2    2    2    2    2    2\n",
      "    1    1    1    1    1    2    2    2    2    2    2    2    2    2    2    2    2    2    2    2    2    2    2    2    2    2    2    2\n",
      "    1    1    1    1    2    2    2    2    2    2    2    2    3    3    3    3    3    2    2    2    2    2    2    2    2    2    2    2\n",
      "    1    1    1    2    2    2    2    2    3    3    3    3    3    3    3    3    3    3    3    3    3    2    2    2    2    2    2    2\n",
      "    1    1    1    2    2    2    3    3    3    3    3    3    3    3    4    4    4   19    5    4    4    3    3    2    2    2    2    2\n",
      "    1    1    2    2    2    3    3    3    3    3    3    3    3    4    4    4    5    7    9 1000    4    4    3    3    2    2    2    2\n",
      "    1    1    2    3    3    3    3    3    3    3    3    4    4    4    4    5    6    9   24    8    5    4    4    3    3    3    2    2\n",
      "    1    2    3    3    3    3    3    3    3    3    4    4    4    4    5    6    8 1000 1000   18    6    5    5    4    3    3    3    2\n",
      "    1    2    3    3    3    3    3    3    3    4    4    4    5    7    8    8   10 1000 1000   13    9    6    6    5    4    3    3    2\n",
      "    2    3    3    3    3    3    3    3    4    4    5    5    6   12 1000   26 1000 1000 1000 1000 1000   12   15   15    4    3    3    3\n",
      "    2    3    3    3    3    3    4    5    5    5    5    6    8   12 1000 1000 1000 1000 1000 1000 1000 1000 1000    7    5    3    3    3\n",
      "    3    3    3    3    4    5    7    7    7    7    7    7   11 1000 1000 1000 1000 1000 1000 1000 1000 1000 1000    9    5    4    3    3\n",
      "    3    4    4    4    5    5    7   16   12   35   11    9   24 1000 1000 1000 1000 1000 1000 1000 1000 1000 1000   15    6    4    3    3\n",
      "    4    4    4    5    5    6    8   18 1000 1000 1000   15 1000 1000 1000 1000 1000 1000 1000 1000 1000 1000 1000   31    5    4    3    3\n",
      "    4    4    6    6    7   12   14 1000 1000 1000 1000 1000 1000 1000 1000 1000 1000 1000 1000 1000 1000 1000 1000    8    5    4    3    3\n",
      " 1000 1000 1000 1000 1000 1000 1000 1000 1000 1000 1000 1000 1000 1000 1000 1000 1000 1000 1000 1000 1000 1000   12    7    5    4    3    3\n",
      "    4    4    6    6    7   12   14 1000 1000 1000 1000 1000 1000 1000 1000 1000 1000 1000 1000 1000 1000 1000 1000    8    5    4    3    3\n",
      "    4    4    4    5    5    6    8   18 1000 1000 1000   15 1000 1000 1000 1000 1000 1000 1000 1000 1000 1000 1000   31    5    4    3    3\n",
      "    3    4    4    4    5    5    7   16   12   35   11    9   24 1000 1000 1000 1000 1000 1000 1000 1000 1000 1000   15    6    4    3    3\n",
      "    3    3    3    3    4    5    7    7    7    7    7    7   11 1000 1000 1000 1000 1000 1000 1000 1000 1000 1000    9    5    4    3    3\n",
      "    2    3    3    3    3    3    4    5    5    5    5    6    8   12 1000 1000 1000 1000 1000 1000 1000 1000 1000    7    5    3    3    3\n",
      "    2    3    3    3    3    3    3    3    4    4    5    5    6   12 1000   26 1000 1000 1000 1000 1000   12   15   15    4    3    3    3\n",
      "    1    2    3    3    3    3    3    3    3    4    4    4    5    7    8    8   10 1000 1000   13    9    6    6    5    4    3    3    2\n",
      "    1    2    3    3    3    3    3    3    3    3    4    4    4    4    5    6    8 1000 1000   18    6    5    5    4    3    3    3    2\n",
      "    1    1    2    3    3    3    3    3    3    3    3    4    4    4    4    5    6    9   24    8    5    4    4    3    3    3    2    2\n",
      "    1    1    2    2    2    3    3    3    3    3    3    3    3    4    4    4    5    7    9 1000    4    4    3    3    2    2    2    2\n",
      "    1    1    1    2    2    2    3    3    3    3    3    3    3    3    4    4    4   19    5    4    4    3    3    2    2    2    2    2\n",
      "    1    1    1    2    2    2    2    2    3    3    3    3    3    3    3    3    3    3    3    3    3    2    2    2    2    2    2    2\n",
      "    1    1    1    1    2    2    2    2    2    2    2    2    3    3    3    3    3    2    2    2    2    2    2    2    2    2    2    2\n",
      "    1    1    1    1    1    2    2    2    2    2    2    2    2    2    2    2    2    2    2    2    2    2    2    2    2    2    2    2\n"
     ]
    }
   ],
   "source": [
    "for j in range(-15, 15):\n",
    "    y = j * 0.1\n",
    "\n",
    "    line = \"\"\n",
    "    for i in range(-19, 9):\n",
    "        x = i * 0.1\n",
    "        \n",
    "        result = sample_mandelbrot(x, y, max_iterations)\n",
    "        line += f\"{result:>5}\"\n",
    "\n",
    "    print(line)"
   ]
  },
  {
   "cell_type": "markdown",
   "id": "943d24a8-c93b-40cb-8adb-4132c2bf3084",
   "metadata": {},
   "source": [
    "## Picture time!"
   ]
  },
  {
   "cell_type": "markdown",
   "id": "fcde9b8c-8f82-497d-9c7a-c477d9f6addc",
   "metadata": {},
   "source": [
    "It would be much more convenient to visualise this a picture. Let's use the `interpolate_colours` function we made last time to turn each of the numbers into a colour. The `start` value should be `1`, as that's the smallest number we see, and the `final` value should be `1000`, as that's the biggest number we see."
   ]
  },
  {
   "cell_type": "markdown",
   "id": "9a5b6790-2147-4c42-9f06-d556715ca901",
   "metadata": {},
   "source": [
    "Additionally, instead of printing out each of the numbers, we'll write them into a picture so we can save it!"
   ]
  },
  {
   "cell_type": "markdown",
   "id": "2b367c2a-aa46-448a-a012-995ae9094d23",
   "metadata": {},
   "source": [
    "Let's start by writing a function, which samples our function in a grid like we just did:"
   ]
  },
  {
   "cell_type": "code",
   "execution_count": 9,
   "id": "93434329-6233-4b95-ac5f-6cbf7cdf87bc",
   "metadata": {},
   "outputs": [],
   "source": [
    "import numpy as np\n",
    "\n",
    "def sample_function_over_rectangle(func, start, final, width, height, max_iterations):\n",
    "    x_min, y_min = start\n",
    "    x_max, y_max = final\n",
    "\n",
    "    x_values = np.linspace(x_min, x_max, width)\n",
    "    y_values = np.linspace(y_min, y_max, height)\n",
    "    \n",
    "    result_array = np.zeros((height, width))\n",
    "    \n",
    "    for j, y in enumerate(y_values):\n",
    "        for i, x in enumerate(x_values):\n",
    "            result_array[j, i] = func(x, y, max_iterations)\n",
    "    \n",
    "    return result_array"
   ]
  },
  {
   "cell_type": "code",
   "execution_count": 10,
   "id": "1705bd09-af6a-4eec-9e20-185aceef5569",
   "metadata": {},
   "outputs": [
    {
     "name": "stdout",
     "output_type": "stream",
     "text": [
      "[[1. 1. 1. ... 1. 1. 1.]\n",
      " [1. 1. 1. ... 1. 1. 1.]\n",
      " [1. 1. 1. ... 1. 1. 1.]\n",
      " ...\n",
      " [1. 1. 1. ... 1. 1. 1.]\n",
      " [1. 1. 1. ... 1. 1. 1.]\n",
      " [1. 1. 1. ... 1. 1. 1.]]\n"
     ]
    }
   ],
   "source": [
    "start = [-2.0, -1.5]\n",
    "final = [2.0, 1.5]\n",
    "width = 100\n",
    "height = 100\n",
    "max_iterations = 1000\n",
    "\n",
    "data = sample_function_over_rectangle(sample_mandelbrot, start, final, width, height, max_iterations)\n",
    "\n",
    "print(data)"
   ]
  },
  {
   "cell_type": "markdown",
   "id": "ce062d9b-a59f-4fa4-8700-39a9cc1730c0",
   "metadata": {},
   "source": [
    "That's the same data as we had above, but presented differently (some values in the middle left out so it prints out in a small space)."
   ]
  },
  {
   "cell_type": "markdown",
   "id": "8120118a-d4ce-4184-9506-9ec78fa47444",
   "metadata": {},
   "source": [
    "Let's transform each of the numbers into a colour:"
   ]
  },
  {
   "cell_type": "code",
   "execution_count": 11,
   "id": "5fcc7fed-dea7-46dd-a996-7b2c99137016",
   "metadata": {},
   "outputs": [],
   "source": [
    "def colour_map(value):\n",
    "    start_colour = [255, 0, 0]\n",
    "    final_colour = [0, 0, 255]\n",
    "    return interpolate_colours(start_colour, final_colour, value)\n",
    "\n",
    "def colourize(values):\n",
    "    return colour_map(values)\n",
    "\n",
    "colour_array = colourize(data)[0]"
   ]
  },
  {
   "cell_type": "markdown",
   "id": "f6b90d6e-9063-441b-9f2d-d0dfcee4bde4",
   "metadata": {},
   "source": [
    "Finally, save the image as a picture:"
   ]
  },
  {
   "cell_type": "code",
   "execution_count": 14,
   "id": "dc5b67b2-f37d-4fb9-a323-26f519e8d3fb",
   "metadata": {},
   "outputs": [],
   "source": [
    "from PIL import Image\n",
    "\n",
    "def save_image(colour_array, filename):\n",
    "    image = Image.fromarray(colour_array, 'RGB')\n",
    "    image.save(filename)"
   ]
  },
  {
   "cell_type": "code",
   "execution_count": 16,
   "id": "a15da596-78de-4855-b12f-c8ce4d3cf01f",
   "metadata": {},
   "outputs": [
    {
     "data": {
      "image/jpeg": "[encoded data removed]",
      "image/png": "[encoded data removed]",
      "text/plain": [
       "<PIL.Image.Image image mode=RGB size=100x100>"
      ]
     },
     "metadata": {},
     "output_type": "display_data"
    }
   ],
   "source": [
    "image = Image.fromarray(colour_array, 'RGB')\n",
    "display(image)"
   ]
  }
 ],
 "metadata": {
  "kernelspec": {
   "display_name": "Python 3 (ipykernel)",
   "language": "python",
   "name": "python3"
  },
  "language_info": {
   "codemirror_mode": {
    "name": "ipython",
    "version": 3
   },
   "file_extension": ".py",
   "mimetype": "text/x-python",
   "name": "python",
   "nbconvert_exporter": "python",
   "pygments_lexer": "ipython3",
   "version": "3.10.14"
  }
 },
 "nbformat": 4,
 "nbformat_minor": 5
}
