{
 "cells": [
  {
   "cell_type": "markdown",
   "id": "9f3804a8-0609-4186-80bf-8229138653ed",
   "metadata": {},
   "source": [
    "# The Mysterious Mandelbrot"
   ]
  },
  {
   "cell_type": "markdown",
   "id": "f975c51a-ef40-4f37-8d67-ecc09893525a",
   "metadata": {},
   "source": [
    "## Chapter 1: Functions"
   ]
  },
  {
   "cell_type": "markdown",
   "id": "53592940-4846-4d2c-9949-25919062d6f3",
   "metadata": {},
   "source": [
    "### Equations in Math"
   ]
  },
  {
   "cell_type": "markdown",
   "id": "5f3ee74a-71a9-47ba-b7a4-e8ff6e208d2d",
   "metadata": {},
   "source": [
    "In mathematics we have equations like this one:"
   ]
  },
  {
   "cell_type": "markdown",
   "id": "5d292d4d-5852-4946-9f74-77214a8226d5",
   "metadata": {},
   "source": [
    "$y = x^2$"
   ]
  },
  {
   "cell_type": "markdown",
   "id": "00841851-b2d0-4b2a-ab47-3f78cab836c3",
   "metadata": {},
   "source": [
    "It tells us the relationship between two _variables_, $x$ and $y$."
   ]
  },
  {
   "cell_type": "markdown",
   "id": "85f714ac-ca66-405f-9cb5-ee78d37dd4fd",
   "metadata": {},
   "source": [
    "If $x = 2$ then $y = 4 = (2 \\times 2)$"
   ]
  },
  {
   "cell_type": "markdown",
   "id": "5571a9db-9bab-45ad-9c56-946542b80881",
   "metadata": {},
   "source": [
    "### Functions in Math"
   ]
  },
  {
   "cell_type": "markdown",
   "id": "135d0cfa-0b09-42a2-9918-590e35c9941c",
   "metadata": {},
   "source": [
    "In order to calculate the value of $y$, we only need to know the value of $x$."
   ]
  },
  {
   "cell_type": "markdown",
   "id": "2afb148c-868e-4644-b879-7311c2ac5cdf",
   "metadata": {},
   "source": [
    "In other words, **\"$y$ is a _function_ of $x$\"**:"
   ]
  },
  {
   "cell_type": "markdown",
   "id": "f1eadc20-0f08-4f5f-9937-3a42c1db3ceb",
   "metadata": {},
   "source": [
    "$y = f(x) = x^2$"
   ]
  },
  {
   "cell_type": "markdown",
   "id": "836df374-ddad-44ee-b2a7-cea26fd6868f",
   "metadata": {},
   "source": [
    "If we had a different equation, like $y = x + z$, then we'd say **\"$y$ is a function of $x$ and $y$\"**"
   ]
  },
  {
   "cell_type": "markdown",
   "id": "05f8875b-8c96-4f8e-9049-9926ad2ad3f7",
   "metadata": {},
   "source": [
    "$y = f(x, z) = x + z$"
   ]
  },
  {
   "cell_type": "markdown",
   "id": "b1cd0cd8-139f-4662-a7b6-08c2495ffe3e",
   "metadata": {},
   "source": [
    "The key thing to remeber is: **\"Functions take some input, and transform it into some output.\"**"
   ]
  },
  {
   "cell_type": "markdown",
   "id": "405192b3-b48b-4129-ae32-050ffc8feb7e",
   "metadata": {},
   "source": [
    "### Functions in Programming"
   ]
  },
  {
   "cell_type": "markdown",
   "id": "35ef641c-63d3-4ca1-ba59-c376edb7db11",
   "metadata": {},
   "source": [
    "Computers are very powerful, because they can do calculations very very quickly."
   ]
  },
  {
   "cell_type": "markdown",
   "id": "59bf3913-b862-4a84-b763-874eac7202f2",
   "metadata": {},
   "source": [
    "To take advantage of them, we need to write the functions in a \"programming language\"."
   ]
  },
  {
   "cell_type": "markdown",
   "id": "873b27d6-57bd-42d5-baa9-f75b4da295dd",
   "metadata": {},
   "source": [
    "This is how we'd write the function $y = x^2$ in the Python programming language:"
   ]
  },
  {
   "cell_type": "code",
   "execution_count": 6,
   "id": "ac26e522-41b1-4bcb-b81f-b9d0de115cc9",
   "metadata": {},
   "outputs": [],
   "source": [
    "def calculate_the_square(x):\n",
    "    return x * x"
   ]
  },
  {
   "cell_type": "markdown",
   "id": "17ed8054-7756-4493-b7fb-5ebdb524ee47",
   "metadata": {},
   "source": [
    "Note! In programming we have lots of functions, so we give them longer names to make it easier to remember what they do, and tell them apart!"
   ]
  },
  {
   "cell_type": "markdown",
   "id": "9a9ecfc6-5881-4fed-bfab-8ce7315f1d77",
   "metadata": {},
   "source": [
    "Now we've _defined_ our function `calcaulte_the_square`, we can give it a number to calculate the result:"
   ]
  },
  {
   "cell_type": "code",
   "execution_count": 20,
   "id": "1229f020-6bb2-4d4d-86ac-66e17363e428",
   "metadata": {},
   "outputs": [
    {
     "data": {
      "text/plain": [
       "4"
      ]
     },
     "execution_count": 20,
     "metadata": {},
     "output_type": "execute_result"
    }
   ],
   "source": [
    "calculate_the_square(2)"
   ]
  },
  {
   "cell_type": "code",
   "execution_count": 22,
   "id": "50865a3b-f54f-46ed-b458-f4dfc997dd01",
   "metadata": {},
   "outputs": [
    {
     "data": {
      "text/plain": [
       "25"
      ]
     },
     "execution_count": 22,
     "metadata": {},
     "output_type": "execute_result"
    }
   ],
   "source": [
    "calculate_the_square(5)"
   ]
  },
  {
   "cell_type": "code",
   "execution_count": 21,
   "id": "7e3d1673-9db6-429e-8bef-fb12f59d350a",
   "metadata": {},
   "outputs": [
    {
     "data": {
      "text/plain": [
       "1000000"
      ]
     },
     "execution_count": 21,
     "metadata": {},
     "output_type": "execute_result"
    }
   ],
   "source": [
    "calculate_the_square(1000)"
   ]
  },
  {
   "cell_type": "markdown",
   "id": "5dc9cb86-b2b0-4e58-bc6b-aac9dcf15c3d",
   "metadata": {},
   "source": [
    "The other function, $y = x + z$, takes two variables, so we'd need to write the function like this:"
   ]
  },
  {
   "cell_type": "code",
   "execution_count": 23,
   "id": "89830543-2902-4a5f-b28f-622fb716b7af",
   "metadata": {},
   "outputs": [],
   "source": [
    "def sum_the_values(x, z):\n",
    "    return x + z"
   ]
  },
  {
   "cell_type": "markdown",
   "id": "138d58df-5317-4cd9-87e0-68003ddeb51c",
   "metadata": {},
   "source": [
    "I've renamed the function `sum_the_values` because it makes it easier to remember what our function is doing!"
   ]
  },
  {
   "cell_type": "markdown",
   "id": "6e33c1c9-7f89-4b70-8054-6bb9e8b0354f",
   "metadata": {},
   "source": [
    "And this time to call it, we need to give it two values:"
   ]
  },
  {
   "cell_type": "code",
   "execution_count": 24,
   "id": "f27baa3d-e57a-42ea-86a9-be9101d56ef7",
   "metadata": {},
   "outputs": [
    {
     "data": {
      "text/plain": [
       "4"
      ]
     },
     "execution_count": 24,
     "metadata": {},
     "output_type": "execute_result"
    }
   ],
   "source": [
    "sum_the_values(1, 3)"
   ]
  },
  {
   "cell_type": "code",
   "execution_count": 25,
   "id": "98774049-40cd-4c76-9c0f-583930aecf92",
   "metadata": {},
   "outputs": [
    {
     "data": {
      "text/plain": [
       "-2"
      ]
     },
     "execution_count": 25,
     "metadata": {},
     "output_type": "execute_result"
    }
   ],
   "source": [
    "sum_the_values(-5, 3)"
   ]
  },
  {
   "cell_type": "markdown",
   "id": "c1b405ba-e4c1-4021-b89c-a0a4c1f67ce9",
   "metadata": {},
   "source": [
    "### Loops"
   ]
  },
  {
   "cell_type": "markdown",
   "id": "bc0be80d-3ad9-4bbd-9471-d4c88c9ad63d",
   "metadata": {},
   "source": [
    "As I said before, computers are super powerful because they can do calculations very quickly... and they don't get bored!"
   ]
  },
  {
   "cell_type": "markdown",
   "id": "6513e7d0-a4b1-433f-88dd-b3908bd497b0",
   "metadata": {},
   "source": [
    "Sometimes we need computers to do the same thing over and over again, so we can use something called a _loop_."
   ]
  },
  {
   "cell_type": "markdown",
   "id": "325e94d1-a988-468c-8fbe-4b6270192bc8",
   "metadata": {},
   "source": [
    "We can write a _for loop_ to print all the numbers between $0$ and $10$:"
   ]
  },
  {
   "cell_type": "code",
   "execution_count": 30,
   "id": "a92e8d8b-b39c-4bd9-a8c4-0ca769791240",
   "metadata": {},
   "outputs": [
    {
     "name": "stdout",
     "output_type": "stream",
     "text": [
      "0\n",
      "1\n",
      "2\n",
      "3\n",
      "4\n",
      "5\n"
     ]
    }
   ],
   "source": [
    "for i in [0, 1, 2, 3, 4, 5]:\n",
    "    print(i)"
   ]
  },
  {
   "cell_type": "markdown",
   "id": "9122518a-3b17-4caf-af79-0137aae95a26",
   "metadata": {},
   "source": [
    "Another way to read this is, \"for all the numbers in the range $0$ to $10$, do something, and call the number \"`i`\" while you do it."
   ]
  },
  {
   "cell_type": "markdown",
   "id": "f170d667-a3a6-40f3-8aa3-2ee28554a21c",
   "metadata": {},
   "source": [
    "Now instead of writing out all the numbers we need in a long list `[0, 1, 2, 3, 4, 5, ...]` we can use a function called `range` which will generate all the numbers between some start value, and a final value:"
   ]
  },
  {
   "cell_type": "code",
   "execution_count": 10,
   "id": "f726eff8-070a-4c2f-9ee0-c25e367cdabf",
   "metadata": {},
   "outputs": [
    {
     "name": "stdout",
     "output_type": "stream",
     "text": [
      "0\n",
      "1\n",
      "2\n",
      "3\n",
      "4\n",
      "5\n"
     ]
    }
   ],
   "source": [
    "for i in range(0, 6):\n",
    "    print(i)"
   ]
  },
  {
   "cell_type": "markdown",
   "id": "1669d00b-2997-411d-8bfd-0a29080b8c02",
   "metadata": {},
   "source": [
    "Note! The `range` function does not return the final number, just the ones leading up to it."
   ]
  },
  {
   "cell_type": "markdown",
   "id": "b4864da4-34c7-42c4-9681-5578a29aaadb",
   "metadata": {},
   "source": [
    "We can call our the `calculate_the_square` function inside the loop, to find the square of all the numbers between 0 and 10:"
   ]
  },
  {
   "cell_type": "code",
   "execution_count": 33,
   "id": "00eee27d-4fd8-4314-a487-5e97ebf3d5dd",
   "metadata": {},
   "outputs": [
    {
     "name": "stdout",
     "output_type": "stream",
     "text": [
      "0\n",
      "1\n",
      "4\n",
      "9\n",
      "16\n",
      "25\n"
     ]
    }
   ],
   "source": [
    "for i in range(0, 6):\n",
    "    result = calculate_the_square(i)\n",
    "    print(result)"
   ]
  },
  {
   "cell_type": "markdown",
   "id": "3f38180c-e116-4838-8812-1e492fa74ad5",
   "metadata": {},
   "source": [
    "### Plotting Functions"
   ]
  },
  {
   "cell_type": "markdown",
   "id": "89b284e9-3621-4e51-9773-ae93f9d77c3f",
   "metadata": {},
   "source": [
    "Printing all the numbers out is good for checking our function works, but as humans sometimes it's easier to see how the function behaves by plotting it on a graph:"
   ]
  },
  {
   "cell_type": "code",
   "execution_count": 18,
   "id": "e4b1fe1e-251b-4ace-a378-53ac47b1566a",
   "metadata": {},
   "outputs": [
    {
     "data": {
      "image/png": "[encoded data removed]",
      "text/plain": [
       "<Figure size 640x480 with 1 Axes>"
      ]
     },
     "metadata": {},
     "output_type": "display_data"
    }
   ],
   "source": [
    "import matplotlib.pyplot as plt\n",
    "\n",
    "# Create a list of values between -100 and 100\n",
    "x = range(-100, 100)\n",
    "\n",
    "# Now calculate the square for each of those values, and append the result to a list\n",
    "y = []\n",
    "for i in x:\n",
    "    result = calculate_the_square(i)\n",
    "    y.append(result)\n",
    "\n",
    "\n",
    "# Plotting the input x against the output y\n",
    "plt.plot(x, y)\n",
    "\n",
    "# Show the plot\n",
    "plt.show()"
   ]
  },
  {
   "cell_type": "markdown",
   "id": "49c55cdc-2775-48dc-be55-1b0cdc1362bc",
   "metadata": {},
   "source": [
    "Note: _appending_ just means sticking the result on the end of a list of values"
   ]
  }
 ],
 "metadata": {
  "kernelspec": {
   "display_name": "Python 3 (ipykernel)",
   "language": "python",
   "name": "python3"
  },
  "language_info": {
   "codemirror_mode": {
    "name": "ipython",
    "version": 3
   },
   "file_extension": ".py",
   "mimetype": "text/x-python",
   "name": "python",
   "nbconvert_exporter": "python",
   "pygments_lexer": "ipython3",
   "version": "3.10.14"
  }
 },
 "nbformat": 4,
 "nbformat_minor": 5
}
